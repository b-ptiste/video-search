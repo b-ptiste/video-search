{
  "cells": [
    {
      "cell_type": "code",
      "execution_count": null,
      "metadata": {
        "colab": {
          "base_uri": "https://localhost:8080/"
        },
        "id": "f0REsnu7fZ61",
        "outputId": "2bf97357-ab97-4b18-ec6e-348529c3f309"
      },
      "outputs": [
        {
          "output_type": "stream",
          "name": "stdout",
          "text": [
            "Looking in indexes: https://pypi.org/simple, https://us-python.pkg.dev/colab-wheels/public/simple/\n",
            "Collecting clustimage\n",
            "  Downloading clustimage-1.5.9-py3-none-any.whl (36 kB)\n",
            "Requirement already satisfied: matplotlib in /usr/local/lib/python3.7/dist-packages (from clustimage) (3.2.2)\n",
            "Requirement already satisfied: pandas in /usr/local/lib/python3.7/dist-packages (from clustimage) (1.3.5)\n",
            "Requirement already satisfied: numpy in /usr/local/lib/python3.7/dist-packages (from clustimage) (1.21.6)\n",
            "Collecting imagehash\n",
            "  Downloading ImageHash-4.2.1.tar.gz (812 kB)\n",
            "\u001b[K     |████████████████████████████████| 812 kB 12.0 MB/s \n",
            "\u001b[?25hCollecting scatterd>=1.1.2\n",
            "  Downloading scatterd-1.1.2-py3-none-any.whl (8.6 kB)\n",
            "Collecting colourmap\n",
            "  Downloading colourmap-1.1.4-py3-none-any.whl (7.0 kB)\n",
            "Requirement already satisfied: sklearn in /usr/local/lib/python3.7/dist-packages (from clustimage) (0.0)\n",
            "Requirement already satisfied: tqdm in /usr/local/lib/python3.7/dist-packages (from clustimage) (4.64.0)\n",
            "Collecting distfit\n",
            "  Downloading distfit-1.4.5-py3-none-any.whl (22 kB)\n",
            "Collecting ismember\n",
            "  Downloading ismember-1.0.1-py3-none-any.whl (7.4 kB)\n",
            "Requirement already satisfied: requests in /usr/local/lib/python3.7/dist-packages (from clustimage) (2.23.0)\n",
            "Collecting umap-learn\n",
            "  Downloading umap-learn-0.5.3.tar.gz (88 kB)\n",
            "\u001b[K     |████████████████████████████████| 88 kB 8.9 MB/s \n",
            "\u001b[?25hRequirement already satisfied: opencv-python in /usr/local/lib/python3.7/dist-packages (from clustimage) (4.1.2.30)\n",
            "Collecting clusteval\n",
            "  Downloading clusteval-2.1.3-py3-none-any.whl (32 kB)\n",
            "Requirement already satisfied: scipy in /usr/local/lib/python3.7/dist-packages (from clustimage) (1.7.3)\n",
            "Requirement already satisfied: scikit-image in /usr/local/lib/python3.7/dist-packages (from clustimage) (0.18.3)\n",
            "Collecting pypickle\n",
            "  Downloading pypickle-1.1.0-py3-none-any.whl (5.1 kB)\n",
            "Collecting pca\n",
            "  Downloading pca-1.8.2-py3-none-any.whl (26 kB)\n",
            "Requirement already satisfied: seaborn in /usr/local/lib/python3.7/dist-packages (from scatterd>=1.1.2->clustimage) (0.11.2)\n",
            "Collecting wget\n",
            "  Downloading wget-3.2.zip (10 kB)\n",
            "Requirement already satisfied: statsmodels in /usr/local/lib/python3.7/dist-packages (from distfit->clustimage) (0.10.2)\n",
            "Requirement already satisfied: six in /usr/local/lib/python3.7/dist-packages (from imagehash->clustimage) (1.15.0)\n",
            "Requirement already satisfied: pillow in /usr/local/lib/python3.7/dist-packages (from imagehash->clustimage) (7.1.2)\n",
            "Requirement already satisfied: PyWavelets in /usr/local/lib/python3.7/dist-packages (from imagehash->clustimage) (1.3.0)\n",
            "Requirement already satisfied: pyparsing!=2.0.4,!=2.1.2,!=2.1.6,>=2.0.1 in /usr/local/lib/python3.7/dist-packages (from matplotlib->clustimage) (3.0.9)\n",
            "Requirement already satisfied: cycler>=0.10 in /usr/local/lib/python3.7/dist-packages (from matplotlib->clustimage) (0.11.0)\n",
            "Requirement already satisfied: kiwisolver>=1.0.1 in /usr/local/lib/python3.7/dist-packages (from matplotlib->clustimage) (1.4.3)\n",
            "Requirement already satisfied: python-dateutil>=2.1 in /usr/local/lib/python3.7/dist-packages (from matplotlib->clustimage) (2.8.2)\n",
            "Requirement already satisfied: typing-extensions in /usr/local/lib/python3.7/dist-packages (from kiwisolver>=1.0.1->matplotlib->clustimage) (4.1.1)\n",
            "Requirement already satisfied: pytz>=2017.3 in /usr/local/lib/python3.7/dist-packages (from pandas->clustimage) (2022.1)\n",
            "Requirement already satisfied: certifi>=2017.4.17 in /usr/local/lib/python3.7/dist-packages (from requests->clustimage) (2022.6.15)\n",
            "Requirement already satisfied: idna<3,>=2.5 in /usr/local/lib/python3.7/dist-packages (from requests->clustimage) (2.10)\n",
            "Requirement already satisfied: chardet<4,>=3.0.2 in /usr/local/lib/python3.7/dist-packages (from requests->clustimage) (3.0.4)\n",
            "Requirement already satisfied: urllib3!=1.25.0,!=1.25.1,<1.26,>=1.21.1 in /usr/local/lib/python3.7/dist-packages (from requests->clustimage) (1.24.3)\n",
            "Requirement already satisfied: imageio>=2.3.0 in /usr/local/lib/python3.7/dist-packages (from scikit-image->clustimage) (2.4.1)\n",
            "Requirement already satisfied: networkx>=2.0 in /usr/local/lib/python3.7/dist-packages (from scikit-image->clustimage) (2.6.3)\n",
            "Requirement already satisfied: tifffile>=2019.7.26 in /usr/local/lib/python3.7/dist-packages (from scikit-image->clustimage) (2021.11.2)\n",
            "Requirement already satisfied: scikit-learn in /usr/local/lib/python3.7/dist-packages (from sklearn->clustimage) (1.0.2)\n",
            "Requirement already satisfied: joblib>=0.11 in /usr/local/lib/python3.7/dist-packages (from scikit-learn->sklearn->clustimage) (1.1.0)\n",
            "Requirement already satisfied: threadpoolctl>=2.0.0 in /usr/local/lib/python3.7/dist-packages (from scikit-learn->sklearn->clustimage) (3.1.0)\n",
            "Requirement already satisfied: patsy>=0.4.0 in /usr/local/lib/python3.7/dist-packages (from statsmodels->distfit->clustimage) (0.5.2)\n",
            "Requirement already satisfied: numba>=0.49 in /usr/local/lib/python3.7/dist-packages (from umap-learn->clustimage) (0.51.2)\n",
            "Collecting pynndescent>=0.5\n",
            "  Downloading pynndescent-0.5.7.tar.gz (1.1 MB)\n",
            "\u001b[K     |████████████████████████████████| 1.1 MB 40.6 MB/s \n",
            "\u001b[?25hRequirement already satisfied: llvmlite<0.35,>=0.34.0.dev0 in /usr/local/lib/python3.7/dist-packages (from numba>=0.49->umap-learn->clustimage) (0.34.0)\n",
            "Requirement already satisfied: setuptools in /usr/local/lib/python3.7/dist-packages (from numba>=0.49->umap-learn->clustimage) (57.4.0)\n",
            "Building wheels for collected packages: imagehash, umap-learn, pynndescent, wget\n",
            "  Building wheel for imagehash (setup.py) ... \u001b[?25l\u001b[?25hdone\n",
            "  Created wheel for imagehash: filename=ImageHash-4.2.1-py2.py3-none-any.whl size=295206 sha256=8dd9e15346bd31290562977bb4d4ddaf1f1838f3a672b0ee5af8d08ebc6ca4f6\n",
            "  Stored in directory: /root/.cache/pip/wheels/4c/d5/59/5e3e297533ddb09407769762985d134135064c6831e29a914e\n",
            "  Building wheel for umap-learn (setup.py) ... \u001b[?25l\u001b[?25hdone\n",
            "  Created wheel for umap-learn: filename=umap_learn-0.5.3-py3-none-any.whl size=82829 sha256=c68fa56fff5cccd6a8f793761645792a5d7966b7574fe072d931a436f3266766\n",
            "  Stored in directory: /root/.cache/pip/wheels/b3/52/a5/1fd9e3e76a7ab34f134c07469cd6f16e27ef3a37aeff1fe821\n",
            "  Building wheel for pynndescent (setup.py) ... \u001b[?25l\u001b[?25hdone\n",
            "  Created wheel for pynndescent: filename=pynndescent-0.5.7-py3-none-any.whl size=54286 sha256=8bff9c8f1bb09b3d1bbc2fade05d0cf8016d370f1d41a9ee8d3a8ef4309153c6\n",
            "  Stored in directory: /root/.cache/pip/wheels/7f/2a/f8/7bd5dcec71bd5c669f6f574db3113513696b98f3f9b51f496c\n",
            "  Building wheel for wget (setup.py) ... \u001b[?25l\u001b[?25hdone\n",
            "  Created wheel for wget: filename=wget-3.2-py3-none-any.whl size=9675 sha256=3fe568dda29cecb622f939efce739f96732b038ecb2b9cb8d68b102055b40058\n",
            "  Stored in directory: /root/.cache/pip/wheels/a1/b6/7c/0e63e34eb06634181c63adacca38b79ff8f35c37e3c13e3c02\n",
            "Successfully built imagehash umap-learn pynndescent wget\n",
            "Installing collected packages: colourmap, wget, scatterd, pypickle, pynndescent, umap-learn, pca, ismember, imagehash, distfit, clusteval, clustimage\n",
            "Successfully installed clusteval-2.1.3 clustimage-1.5.9 colourmap-1.1.4 distfit-1.4.5 imagehash-4.2.1 ismember-1.0.1 pca-1.8.2 pynndescent-0.5.7 pypickle-1.1.0 scatterd-1.1.2 umap-learn-0.5.3 wget-3.2\n"
          ]
        }
      ],
      "source": [
        "!pip install -U clustimage"
      ]
    },
    {
      "cell_type": "code",
      "execution_count": null,
      "metadata": {
        "colab": {
          "base_uri": "https://localhost:8080/"
        },
        "id": "tsmsBjvKfq34",
        "outputId": "504bc4bc-4af1-4751-ff3a-4d6ae50de128"
      },
      "outputs": [
        {
          "output_type": "stream",
          "name": "stderr",
          "text": [
            "/usr/local/lib/python3.7/dist-packages/statsmodels/tools/_testing.py:19: FutureWarning: pandas.util.testing is deprecated. Use the functions in the public API at pandas.testing instead.\n",
            "  import pandas.util.testing as tm\n"
          ]
        }
      ],
      "source": [
        "import cv2\n",
        "import numpy as np\n",
        "import time\n",
        "from google.colab.patches import cv2_imshow\n",
        "from google.colab import files\n",
        "import matplotlib.pyplot as plt\n",
        "from clustimage import Clustimage\n",
        "import os \n",
        "from scipy import cluster\n",
        "import shutil\n",
        "from datetime import timedelta\n",
        "import numpy as np"
      ]
    },
    {
      "cell_type": "code",
      "execution_count": null,
      "metadata": {
        "colab": {
          "base_uri": "https://localhost:8080/"
        },
        "id": "3Doip8b_ghM8",
        "outputId": "029cb1a8-3908-46b6-d099-7d781d1411f4"
      },
      "outputs": [
        {
          "name": "stdout",
          "output_type": "stream",
          "text": [
            "1.5.9\n"
          ]
        }
      ],
      "source": [
        "import clustimage\n",
        "print(clustimage.__version__)"
      ]
    },
    {
      "cell_type": "code",
      "execution_count": null,
      "metadata": {
        "colab": {
          "base_uri": "https://localhost:8080/"
        },
        "id": "h3hU2zWvaTfI",
        "outputId": "a8839680-59c2-4329-83cb-a980facc4ac0"
      },
      "outputs": [
        {
          "output_type": "stream",
          "name": "stdout",
          "text": [
            "Mounted at /content/gdrive\n"
          ]
        }
      ],
      "source": [
        "\"\"\"The tranformation from video into images and the cluster analyses was done using googledrive to store the data  \"\"\"\n",
        "from google.colab import drive\n",
        "drive.mount('/content/gdrive')"
      ]
    },
    {
      "cell_type": "markdown",
      "source": [
        "# Keyframe Extraction"
      ],
      "metadata": {
        "id": "ORFTS3ZLnA13"
      }
    },
    {
      "cell_type": "markdown",
      "source": [
        "**Setup:** \n",
        "\n",
        "in function split_video change filename1 and filename2. Filename1 is the path where a folder for a video will be created. Filename2 will create a folder inside the filename1 folder where the frames will be stored. "
      ],
      "metadata": {
        "id": "L8P51WVUmCfA"
      }
    },
    {
      "cell_type": "markdown",
      "source": [
        "In the for-loop change video_path to the path where the shots from the shot detection step are stored."
      ],
      "metadata": {
        "id": "dA8DNtd9nbjP"
      }
    },
    {
      "cell_type": "code",
      "execution_count": null,
      "metadata": {
        "id": "ey_KUycjOHZV"
      },
      "outputs": [],
      "source": [
        "# i.e if video of duration 30 seconds, saves 10 frame per second = 300 frames saved in total\n",
        "SAVING_FRAMES_PER_SECOND = 4"
      ]
    },
    {
      "cell_type": "code",
      "execution_count": null,
      "metadata": {
        "id": "nD98QW8HOKzl"
      },
      "outputs": [],
      "source": [
        "def format_timedelta(td):\n",
        "    \"\"\"Utility function to format timedelta objects\"\"\"\n",
        "    result = str(td)\n",
        "    try:\n",
        "        result, ms = result.split(\".\")\n",
        "    except ValueError:\n",
        "        return result + \".00\".replace(\":\", \"-\")\n",
        "    ms = int(ms)\n",
        "    ms = round(ms / 1e4)\n",
        "    return f\"{result}.{ms:02}\".replace(\":\", \"-\")\n",
        "\n",
        "\n",
        "def get_saving_frames_durations(cap, saving_fps):\n",
        "    \"\"\"A function that returns the list of durations where to save the frames\"\"\"\n",
        "    s = []\n",
        "    # get the clip duration by dividing number of frames by the number of frames per second\n",
        "    clip_duration = cap.get(cv2.CAP_PROP_FRAME_COUNT) / cap.get(cv2.CAP_PROP_FPS)\n",
        "    # use np.arange() to make floating-point steps\n",
        "    for i in np.arange(0, clip_duration, 1 / saving_fps):\n",
        "        s.append(i)\n",
        "    return s"
      ]
    },
    {
      "cell_type": "code",
      "execution_count": null,
      "metadata": {
        "id": "jfwXBQ39OWiK"
      },
      "outputs": [],
      "source": [
        "\"\"\"This function tranforms videos or the shots of videos into images based an the framerate per second.\n",
        "To Setup the code on a different computer you need to change the path of filename1 and filename2 accordingly to your computer. Those folders will then be automatically created\"\"\"\n",
        "def split_video(video_file, n, f): #n is the number of the video, f is the shotnumber of the video n     \n",
        "    if n<10:\n",
        "      filename1 = f\"/content/gdrive/MyDrive/Keyframes_Videos_Part_1/video_split_0000{n}\" #path to folder where the video number n will be stored \n",
        "      filename2 = f\"/content/gdrive/MyDrive/Keyframes_Videos_Part_1/video_split_0000{n}/video_{f}\" #path to folder where the shot f of video number n will be stored \n",
        "      # make a folder by the name of the video file\n",
        "      if not os.path.isdir(filename1):\n",
        "        os.mkdir(filename1)\n",
        "      if not os.path.isdir(filename2):\n",
        "        os.mkdir(filename2)\n",
        "    elif  n>=10 and n<100:\n",
        "      filename1 = f\"/content/gdrive/MyDrive/Keyframes_Videos_Part_1/video_split_000{n}\" #path to folder where the video number n will be stored \n",
        "      filename2 = f\"/content/gdrive/MyDrive/Keyframes_Videos_Part_1/video_split_000{n}/video_{f}\" #path to folder where the shot f of video number n will be stored \n",
        "      # make a folder by the name of the video file\n",
        "      if not os.path.isdir(filename1):\n",
        "        os.mkdir(filename1)\n",
        "      if not os.path.isdir(filename2):\n",
        "        os.mkdir(filename2)\n",
        "    else:\n",
        "      filename1 = f\"/content/gdrive/MyDrive/Keyframes_Videos_Part_1/video_split_00{n}\" #path to folder where the video number n will be stored \n",
        "      filename2 = f\"/content/gdrive/MyDrive/Keyframes_Videos_Part_1/video_split_00{n}/video_{f}\" #path to folder where the shot f of video number n will be stored \n",
        "      # make a folder by the name of the video file\n",
        "      if not os.path.isdir(filename1):\n",
        "        os.mkdir(filename1)\n",
        "      if not os.path.isdir(filename2):\n",
        "        os.mkdir(filename2)\n",
        "    # read the video file    \n",
        "    cap = cv2.VideoCapture(video_file)\n",
        "    # get the FPS of the video\n",
        "    fps = cap.get(cv2.CAP_PROP_FPS)\n",
        "    # if the SAVING_FRAMES_PER_SECOND is above video FPS, then set it to FPS (as maximum)\n",
        "    saving_frames_per_second = min(fps, SAVING_FRAMES_PER_SECOND)\n",
        "    # get the list of duration spots to save\n",
        "    saving_frames_durations = get_saving_frames_durations(cap, saving_frames_per_second)\n",
        "    # start the loop\n",
        "    count = 0\n",
        "    while True:\n",
        "        is_read, frame = cap.read()\n",
        "        if not is_read:\n",
        "            # break out of the loop if there are no frames to read\n",
        "            break\n",
        "        # get the duration by dividing the frame count by the FPS\n",
        "        frame_duration = count / fps\n",
        "        try:\n",
        "            # get the earliest duration to save\n",
        "            closest_duration = saving_frames_durations[0]\n",
        "        except IndexError:\n",
        "            # the list is empty, all duration frames were saved\n",
        "            break\n",
        "        if frame_duration >= closest_duration:\n",
        "            # if closest duration is less than or equals the frame duration, \n",
        "            # then save the frame\n",
        "            frame_duration_formatted = format_timedelta(timedelta(seconds=frame_duration))\n",
        "            cv2.imwrite(os.path.join(filename2, f\"frame{frame_duration_formatted}.jpg\"), frame) \n",
        "            # drop the duration spot from the list, since this duration spot is already saved\n",
        "            try:\n",
        "                saving_frames_durations.pop(0)\n",
        "            except IndexError:\n",
        "                pass\n",
        "        # increment the frame count\n",
        "        count += 1"
      ]
    },
    {
      "cell_type": "code",
      "execution_count": null,
      "metadata": {
        "id": "-4kz6PKtPOjo"
      },
      "outputs": [],
      "source": [
        "\"\"\"Loop goes through all videos and transforms the shots into images.\n",
        "To Setup this on a different computer you need to change the video_path accordingly to where the shots of the videos are saved.\n",
        "\"\"\"\n",
        "for n in range(1,101): #n is the number of videos \n",
        "    if n<10:\n",
        "        for f in range(0,700): #f is number of shots per video\n",
        "          video_path = (f\"/content/gdrive/MyDrive/Video_Splits/video_split_0000{n}/\"+f\"video_{f}\"+ \".mp4\") #path where the shots f of the video n are stores \n",
        "          try: \n",
        "            print(video_path)\n",
        "            split_video(video_path, n, f)\n",
        "          except:\n",
        "            print(f\"video_{f} doesn't excist\")\n",
        "            break\n",
        "    elif n<100:\n",
        "        for f in range(0,700):\n",
        "          video_path = (f\"/content/gdrive/MyDrive/Video_Splits/video_split_000{n}/\"+f\"video_{f}\"+ \".mp4\") #path where the shots f of the video n are stores \n",
        "          try: \n",
        "            print(video_path)\n",
        "            split_video(video_path, n, f)\n",
        "          except:\n",
        "            print(f\"video_{f} doesn't excist\")\n",
        "            break\n",
        "    else:\n",
        "        for f in range(0,700):\n",
        "          video_path = (f\"/content/gdrive/MyDrive/Video_Splits/video_split_00{n}/\"+f\"video_{f}\"+ \".mp4\") #path where the shots f of the video n are stores \n",
        "          try: \n",
        "            print(video_path)\n",
        "            split_video(video_path, n, f)\n",
        "          except:\n",
        "            print(f\"video_{f} doesn't excist\")\n",
        "            break\n",
        "    \n",
        "    "
      ]
    },
    {
      "cell_type": "markdown",
      "source": [
        "# Cluster Analysis"
      ],
      "metadata": {
        "id": "EjD-aZ3en2Ly"
      }
    },
    {
      "cell_type": "markdown",
      "source": [
        "**Setup:**\n",
        "\n",
        "in function cluster_analysis change filename1 and filename2. Filename1 is the path where a folder for a video will be created. Filename2 will create a folder inside the filename1 folder where the unique frames of a cluster will be stored. So inside the path of filename2 will be the output images of the \n",
        "clustering process which are the inputs for YOLO and AlexNet.\n",
        "\n",
        "In the for-loop change the video_path to where frames of the keyframe extraction step are located. "
      ],
      "metadata": {
        "id": "NZeJ4AguoAce"
      }
    },
    {
      "cell_type": "code",
      "execution_count": null,
      "metadata": {
        "id": "6aqZDjTauiUg"
      },
      "outputs": [],
      "source": [
        "\"\"\"This function takes images as an input does a agglomerative hierachical cluster analysis and gives out one keyframe image per cluster detected.\n",
        "With min_cluster and max_cluster a range is determined on how many clusters there shall be per input.\n",
        "To Setup the code on a different computer you need to change the path of filename1 and filename2 accordingly to your computer. Those folders will then be automatically created.\"\"\"\n",
        "def cluster_analysis(path, n, f): #path is the path to the folder with the input images, n is the number of the video and f is the number of shot in the video n  \n",
        "  if n<10:\n",
        "    filename1 = f\"/content/gdrive/MyDrive/Cluster_Frames_Videos_Part1/video_split_0000{n}\" #path to folder where the video n shall be stored\n",
        "    filename2 = f\"/content/gdrive/MyDrive/Cluster_Frames_Videos_Part1/video_split_0000{n}/video_{f}\" #path to folder where the images of shot f of video n shall be stored \n",
        "    # make a folder by the name of the video file\n",
        "    if not os.path.isdir(filename1):\n",
        "      os.mkdir(filename1)\n",
        "    if not os.path.isdir(filename2):\n",
        "      os.mkdir(filename2)\n",
        "  \n",
        "    cl = Clustimage(method='pca')\n",
        "    results = cl.fit_transform(path , min_clust=1, max_clust=10)\n",
        "    cl.cluster(cluster='agglomerative', evaluate='dbindex', metric='euclidean', linkage='ward', min_clust=1, max_clust=10, cluster_space='low')\n",
        "    unique_images = {}\n",
        "    unique_images = cl.unique()\n",
        "    \n",
        "    #takes unique image per cluster and saves it \n",
        "    original = unique_images[\"pathnames\"]\n",
        "    for each in original:\n",
        "      shutil.copy(each,filename2)\n",
        "\n",
        "  elif n<100:\n",
        "    filename1 = f\"/content/gdrive/MyDrive/Cluster_Frames_Videos_Part1/video_split_000{n}\" #path to folder where the video n shall be stored\n",
        "    filename2 = f\"/content/gdrive/MyDrive/Cluster_Frames_Videos_Part1/video_split_000{n}/video_{f}\" #path to folder where the images of shot f of video n shall be stored \n",
        "    # make a folder by the name of the video file\n",
        "    if not os.path.isdir(filename1):\n",
        "      os.mkdir(filename1)\n",
        "    if not os.path.isdir(filename2):\n",
        "      os.mkdir(filename2)\n",
        "    \n",
        "    cl = Clustimage(method='pca')\n",
        "    results = cl.fit_transform(path , min_clust=1, max_clust=10)\n",
        "    cl.cluster(cluster='agglomerative', evaluate='dbindex', metric='euclidean', linkage='ward', min_clust=1, max_clust=10, cluster_space='low')\n",
        "    unique_images = {}\n",
        "    unique_images = cl.unique()\n",
        "    \n",
        "    #takes unique image per cluster and saves it \n",
        "    original = unique_images[\"pathnames\"]\n",
        "    for each in original:\n",
        "      shutil.copy(each,filename2)\n",
        "  else:\n",
        "    filename1 = f\"/content/gdrive/MyDrive/Cluster_Frames_Videos_Part1/video_split_00{n}\" #path to folder where the video n shall be stored\n",
        "    filename2 = f\"/content/gdrive/MyDrive/Cluster_Frames_Videos_Part1/video_split_00{n}/video_{f}\" #path to folder where the images of shot f of video n shall be stored \n",
        "    # make a folder by the name of the video file\n",
        "    if not os.path.isdir(filename1):\n",
        "      os.mkdir(filename1)\n",
        "    if not os.path.isdir(filename2):\n",
        "      os.mkdir(filename2)\n",
        "    \n",
        "    cl = Clustimage(method='pca')\n",
        "    results = cl.fit_transform(path , min_clust=1, max_clust=10)\n",
        "    cl.cluster(cluster='agglomerative', evaluate='dbindex', metric='euclidean', linkage='ward', min_clust=1, max_clust=10, cluster_space='low')\n",
        "    unique_images = {}\n",
        "    unique_images = cl.unique()\n",
        "    \n",
        "    #takes unique image per cluster and saves it    \n",
        "    original = unique_images[\"pathnames\"]\n",
        "    for each in original:\n",
        "      shutil.copy(each,filename2)\n"
      ]
    },
    {
      "cell_type": "code",
      "execution_count": null,
      "metadata": {
        "colab": {
          "base_uri": "https://localhost:8080/"
        },
        "id": "5XFHeYVgyWZi",
        "outputId": "477df425-8b87-4c05-8e61-65b468fef37d"
      },
      "outputs": [
        {
          "output_type": "stream",
          "name": "stderr",
          "text": [
            "[clustimage] >INFO> filepath is set to [/tmp/clustimage]\n",
            "[clustimage] >INFO> filepath is set to [/tmp/clustimage]\n",
            "[clustimage] >INFO> filepath is set to [/tmp/clustimage]\n",
            "[clustimage] >INFO> Cleaning previous fitted model results\n",
            "[clustimage] >INFO> Extracting images from: [/content/gdrive/MyDrive/Keyframes_Videos_Part_1/video_split_00044/video_0]\n",
            "[clustimage] >INFO> [0] files are collected recursively from path: [/content/gdrive/MyDrive/Keyframes_Videos_Part_1/video_split_00044/video_0]\n",
            "[clustimage] >INFO> [0] images are extracted.\n",
            "[clustimage] >INFO> Reading and checking images.\n",
            "[clustimage] >INFO> Extracting features using method: [pca]\n"
          ]
        },
        {
          "output_type": "stream",
          "name": "stdout",
          "text": [
            "/content/gdrive/MyDrive/Keyframes_Videos_Part_1/video_split_00044/video_0\n",
            "/content/gdrive/MyDrive/Keyframes_Videos_Part_1/video_split_00044/video_0\n",
            "video_0 doesn't excist\n"
          ]
        }
      ],
      "source": [
        "\"\"\"Loop goes through all frames per shot and does cluster analysis on them.\n",
        "To Setup this on a different computer you need to change the video_path accordingly to where the shots of the videos are saved.\"\"\"\n",
        "for n in range(1,101):\n",
        "    if n<10:\n",
        "        for f in range(0,700):\n",
        "          video_path = (f\"/content/gdrive/MyDrive/Keyframes_Videos_Part_1/video_split_0000{n}/\"+f\"video_{f}\") #path to folder where the images of shot f of video n are stored \n",
        "          try: \n",
        "            print(video_path)\n",
        "            cluster_analysis(video_path, n, f)\n",
        "          except:\n",
        "            print(f\"video_{f} doesn't excist\")\n",
        "            break\n",
        "    elif n<100:\n",
        "        for f in range(0,700):\n",
        "          video_path = (f\"/content/gdrive/MyDrive/Keyframes_Videos_Part_1/video_split_000{n}/\"+f\"video_{f}\") #path to folder where the images of shot f of video n are stored \n",
        "          print(video_path)\n",
        "          try: \n",
        "            print(video_path)\n",
        "            cluster_analysis(video_path, n, f)\n",
        "          except:\n",
        "            print(f\"video_{f} doesn't excist\")\n",
        "            break\n",
        "    else:\n",
        "        for f in range(0,700):\n",
        "          video_path = (f\"/content/gdrive/MyDrive/Keyframes_Videos_Part_1/video_split_00{n}/\"+f\"video_{f}\") #path to folder where the images of shot f of video n are stored \n",
        "          try: \n",
        "            print(video_path)\n",
        "            cluster_analysis(video_path, n, f)\n",
        "          except:\n",
        "            print(f\"video_{f} doesn't excist\")\n",
        "            break"
      ]
    }
  ],
  "metadata": {
    "colab": {
      "name": "Cluster_AnalysisV6.ipynb",
      "provenance": []
    },
    "gpuClass": "standard",
    "kernelspec": {
      "display_name": "Python 3",
      "name": "python3"
    },
    "language_info": {
      "name": "python"
    }
  },
  "nbformat": 4,
  "nbformat_minor": 0
}